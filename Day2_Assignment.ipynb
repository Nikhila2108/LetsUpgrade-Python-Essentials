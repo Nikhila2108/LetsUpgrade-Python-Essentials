{
  "nbformat": 4,
  "nbformat_minor": 0,
  "metadata": {
    "colab": {
      "name": "Day2 Assignment.ipynb",
      "provenance": [],
      "collapsed_sections": []
    },
    "kernelspec": {
      "name": "python3",
      "display_name": "Python 3"
    }
  },
  "cells": [
    {
      "cell_type": "code",
      "metadata": {
        "id": "pzPWfnRxhn_2",
        "colab_type": "code",
        "colab": {}
      },
      "source": [
        ""
      ],
      "execution_count": null,
      "outputs": []
    },
    {
      "cell_type": "markdown",
      "metadata": {
        "id": "gq3Zph1HhpaL",
        "colab_type": "text"
      },
      "source": [
        "Question1 :\n",
        "List is a container which can store different data types in it.\n",
        "Different defualt functions of list:\n",
        "1. append()\n",
        "2. insert()\n",
        "3. extend()\n",
        "4. index()\n",
        "5. count()\n",
        "\n",
        "Question2:\n",
        "Dictionary:\n",
        "This is a key value pair data structure, it is complex, it is an object of DICT class in python. Data is stored like -> {\"KEY\" : \"Value\"}\n",
        "Default functions of dictionary:\n",
        "1. get()\n",
        "2. items()\n",
        "3. keys()\n",
        "4. pop()\n",
        "5. clear()\n",
        "\n",
        "Question 3 :\n",
        "Sets are used for storing unique values in the python, sets are complex data structures. Sets are a class in Python, whose object can be derived. Sets are mostly used for finding UNION, disjoin and finding commons and uncommons in the python data type.\n",
        "Default functions of Sets:\n",
        "1. issubset()\n",
        "2. all()\n",
        "3. any()\n",
        "4. enumerate()\n",
        "5. issuperset()\n",
        "\n",
        "Question 4:\n",
        "Tuples are ordered immutable collection of objects. Once the data is written that cannot be changed ever.\n",
        "Default functions of Tuple: \n",
        "1. cmp()\n",
        "2. len()\n",
        "3. max()\n",
        "4. min()\n",
        "5. count()\n",
        "\n",
        "Question 5 :\n",
        "Strings are arrays of bytes representing unicode characters.\n",
        "Default functions of strings:\n",
        "1. len()\n",
        "2. lower()\n",
        "3. strip()\n",
        "4. replace()\n",
        "5. upper()\n"
      ]
    }
  ]
}